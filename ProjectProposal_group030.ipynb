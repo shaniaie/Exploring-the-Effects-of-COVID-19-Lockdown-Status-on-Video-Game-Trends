{
 "cells": [
  {
   "cell_type": "markdown",
   "metadata": {},
   "source": [
    "# COGS 108 - Final Project Proposal"
   ]
  },
  {
   "cell_type": "markdown",
   "metadata": {},
   "source": [
    "# Names\n",
    "\n",
    "- Thuycam Nguyen\n",
    "- Shania Ie\n",
    "- Tiffany Ho\n",
    "- Shawn Kim\n",
    "- Karina Sevilla"
   ]
  },
  {
   "cell_type": "markdown",
   "metadata": {},
   "source": [
    "# Research Question"
   ]
  },
  {
   "cell_type": "markdown",
   "metadata": {},
   "source": [
    "- How have various video game genres’ popularities been affected by the global pandemic?\n",
    "    - Sub Questions:\n",
    "        - Are there differences between the growths of popularity of video games of different age ratings?\n",
    "        - Did multiplayer games grow in popularity more than single player games did?\n",
    "        - Do the top twitch streamers have an influence on the popularity of video game sales?\n",
    "        - How did the increasing number of people (globally) in lockdown affect the popularity of games?"
   ]
  },
  {
   "cell_type": "markdown",
   "metadata": {},
   "source": [
    "## Background and Prior Work"
   ]
  },
  {
   "cell_type": "markdown",
   "metadata": {},
   "source": [
    "### A brief introduction to Steam\n",
    "Steam is one of the largest video game digital distribution services. As of 2021, it allows the purchase and download of over 50,000 games and services around 120 million monthly active users.  During Covid-19, the Steam games Among Us, Rust, and Valheim faced notable spikes in popularity. During quarantine, Steam had increased popularity as an online, safe activity which connected friends and family. For people seeking for social interaction, Steam is a well marketed video game distributor supporting social distancing.\n",
    "    \n",
    "### A Brief Introduction to Twitch\n",
    "Twitch is a gaming streaming platform allowing people worldwide to watch people play video games, podcasts, and show their daily lives. Twitch faced a spike in viewership during the lockdown as a form of entertainment allowing viewers to communicate with the streamer in real time. Because Twitch has a large gaming audience, we will research whether the top streamers have an influence on the sale of video games.\n",
    "\n",
    "### Video Games Trends During the Pandemic\n",
    "In “Everyone is playing video games during the pandemic”, Adam Epstein highlighted that the United States saw a drastic increase in video game sales in August 2020. According to a market research firm NPD Group, it accumulated a total of 3.3 billion USD just in that month. In total, there was an outstanding 23% increase in sales from the previous year, selling around $29.4 billion digital and physical copies. This trend continues to persist even when the travel restriction loosens and quarantine approaches an end. Evidently, the sales of gaming hardwares, such as consoles and accessories, sought an increase. However this trend is not only applicable to the United States, it has become a worldwide phenomenon. In Japan, there was a 44% increase in mobile game sales on Iphones and a 20% increase in the European Union by July. In France, Nielsen reported that 41% of self-identified gamers played more video games due to the pandemic. \n",
    "\n",
    "The increase in video game sales drove up the profits of multiple gaming companies. Nintendo, for example, had\n",
    "$1.4 billion in profits as they released a social simulation game Animal Crossing: New Horizons, which gained a lot of traction after its launch in March. First person shooter games like Call of Duty: Warzone increased its number of active players with a total of 75 million gamers in August; a whopping 45 million increase since late March. On the other hand, Electronic Arts’ FIFA gained 7 million new players, doubling the amount from previous year. While NBA 2K20, had an 82% increase in active players as people are no longer able to watch live basketball games.\n",
    "\n",
    "Though video games in general have increased in popularity not every game has been treated equally.  A study by inverse showed that a majority of players in their study either favored single player games or a mix of both single and multiplayer. Multiplayer games were not favored overall. Though multiplayer games have also been found to be increasingly popular during the pandemic. This study also mentioned a shift in popularity from multiplayer to single player during the lockdown due to possible “fatigue” of the multiplayer games. \n",
    "\n",
    "### Previous Project Analysis\n",
    "**Fall 2020 Final Project Group 4**\n",
    "\n",
    "Analyzed a game's genre and critic score to measure whether a game would be popular, or have a relatively high number of sales.  They were able to predict whether a game was popular with a 66% accuracy and concluded that while the genre and critic score of a game did have some influence over a game's popularity, there were other factors that also affected whether a game would be popular or not.  The 66% accuracy prediction reflects this since other factors that influence a game's popularity prediction were not taken into account.  One example of this is that the games in the action genre were the most popular games in the North American and European regions but weren't necessarily the case in other regions.\n",
    "\n",
    "**“Associations Between Game Characteristics And Popularity” (Fall 2020 Final Project Group 36)**\n",
    "\n",
    "This project analyzed the effect of certain video game features on the popularity of specific games on steam. The features included genre, platform, price, and more, and they compared this to the number of owners of the game to determine popularity. They were able to find a positive relationship between certain features, specifically between recommendations and genres, and game ownership. They then were able to create classification models to predict whether a game would be popular, which was accurate two thirds of the time. \n",
    "\n",
    "**Fall 2020 Final Project Group 37**\n",
    "\n",
    "Using data from the Reddit community, the group for this project used data from the Reddit community and analyzed the most influential factors that make players more willing to spend real-world money in Fate/Grand Order. They hypothesized that character-based features and player-based features all influenced the player's willingness to spend money on the game. For character-based features, only the North American servers show a significant positive for spending money on high power-level characters. They could partially reject their hypothesis on player-based features because players with a larger total time were more willing to spend money.\n",
    "\n",
    "\n",
    "### References (include links):\n",
    "1. https://backlinko.com/steam-users\n",
    "2. https://www.kaggle.com/rankirsh/evolution-of-top-games-on-twitch\n",
    "3. https://qz.com/1904276/everyone-is-playing-video-games-during-the-pandemic/\n",
    "4. https://www.inverse.com/gaming/video-games-pandemic\n",
    "5. https://github.com/COGS108/FinalProjects-Fa20/blob/main/FinalProject_group004.ipynb \n",
    "6. https://github.com/COGS108/FinalProjects-Fa20/blob/main/FinalProject_group036.ipynb  \n",
    "7. https://github.com/COGS108/FinalProjects-Fa20/blob/main/FinalProject_group037.ipynb "
   ]
  },
  {
   "cell_type": "markdown",
   "metadata": {},
   "source": [
    "# Hypothesis\n"
   ]
  },
  {
   "cell_type": "markdown",
   "metadata": {},
   "source": [
    "- Video games rated T (teen) will grow the most in popularity because middle/highschool kids are now dealing with freetime that they have never had before, therefore they are spending more of that time playing video games. \n",
    "- Multiplayer games will grow in popularity more than single-player games as people look to video games for social interaction.\n",
    "- Games that gain a lot of views on Twitch will cause an increase in the number of players.\n",
    "- As the lockdown forces people to stay inside, more people will seek video games as a way to spend their time."
   ]
  },
  {
   "cell_type": "markdown",
   "metadata": {},
   "source": [
    "# Data"
   ]
  },
  {
   "cell_type": "markdown",
   "metadata": {},
   "source": [
    "- The ideal dataset when looking at games’ popularities would have a list of the popularities (measured in average concurrent users) of all video games over time (the granular time unit, the better), with each game having a corresponding list of genres and age rating. The time range of the games’ popularities would need to date back from at least before the start of lockdowns and to as close to the present as possible.\n",
    "- To relate this data to lockdown, we would need the number of people in lockdown, globally, over time.\n",
    "- For data on games’ popularities on Twitch, the ideal dataset would be exactly the same as the first dataset we described, but with popularities measured in average views on Twitch."
   ]
  },
  {
   "cell_type": "markdown",
   "metadata": {},
   "source": [
    "# Ethics & Privacy"
   ]
  },
  {
   "cell_type": "markdown",
   "metadata": {},
   "source": [
    "Most of our data contains general information about video games and not the people playing these video games specifically (anonymized), therefore there is no concern for privacy of individuals. Our datasets are also licensed under the CC by 4.0 license or are available in the public domain. On the other hand, since our data of the number of people in lockdown is aggregated from a list of countries/regions, there may be a bias towards countries that entered lockdown and have a percentage of population with Internet access greater than the worldwide average. For example, if a large developing country entered lockdown, it may not affect games’ popularity much but would greatly influence the number of people in lockdown. This bias cannot be removed from our data, but it can be mitigated by looking at a large number of countries."
   ]
  },
  {
   "cell_type": "markdown",
   "metadata": {},
   "source": [
    "# Team Expectations "
   ]
  },
  {
   "cell_type": "markdown",
   "metadata": {},
   "source": [
    "- We expect to meet on a regular basis with every team member to discuss all aspects of the project \n",
    "    - Every team member will participate in said meetings, giving input and insight on all decisions made for the project. \n",
    "- We expect team members to contribute quality work to the project.\n",
    "- We expect team members to all contribute an equal amount of effort to the project. \n",
    "- We expect every team member to communicate if they cannot make a meeting or contribute to their particular part of the project. \n",
    "- We expect team members to be respectful and kind to one another during the duration of this project."
   ]
  },
  {
   "cell_type": "markdown",
   "metadata": {},
   "source": [
    "# Project Timeline Proposal"
   ]
  },
  {
   "cell_type": "markdown",
   "metadata": {},
   "source": [
    "| Meeting Date  | Meeting Time| Completed Before Meeting  | Discuss at Meeting |\n",
    "|---|---|---|---|\n",
    "| 4/20  | 6 PM | Brainstorm topics/questions and look over proposal guidelines. | Discuss possible analysis on the current selected topic (further research and findings). Discuss requirements needed to complete the project proposal. Begin background research. | \n",
    "| 4/22  | 8 PM | List down research questions and do prior background research on topic | Review research questions and discuss ideal dataset(s), ethics, and team expectations. |\n",
    "| 4/23  | Before 11:59 PM  | N/A | Edit, finalize, and submit proposal |\n",
    "| 4/27  | 6 PM  | Search and compile a list of datasets. | Briefly talk about each dataset and possible analytical approaches. Assign tasks to group members |\n",
    "| 5/4  | 6 PM  | Import and cleaning data | Review/edit cleaned data/EDA. Discuss analysis plan. Making sure the team meets the requirements for Checkpoint #1. |\n",
    "| 5/7  | Before 11:59 PM  | N/A | Complete and submit Checkpoint #1. |\n",
    "| 5/11  | 6 PM  | Finalize wrangling if needed. Begin data analysis | Review and edit analysis |\n",
    "| 5/18 | 6 PM | Finalize analysis | Discuss results (checking the distributions, outliers, and relationship). Making sure the team meets the requirements for Checkpoint #2. |\n",
    "| 5/21 | Before 11:59 PM | N/A | Complete and submit Checkpoint #2. |\n",
    "| 5/25 | 6 PM | Begin draft of results/conclusion/discussion | Discuss/edit final report |\n",
    "| 6/1 | 6 PM | Assigning sections to each member and prepare for presentation | Record and compile video presentations. |\n",
    "| 6/9 | Before 11:59 PM | N/A | Turn in final report, video, and team evaluations |"
   ]
  },
  {
   "cell_type": "code",
   "execution_count": null,
   "metadata": {},
   "outputs": [],
   "source": []
  }
 ],
 "metadata": {
  "kernelspec": {
   "display_name": "Python 3",
   "language": "python",
   "name": "python3"
  },
  "language_info": {
   "codemirror_mode": {
    "name": "ipython",
    "version": 3
   },
   "file_extension": ".py",
   "mimetype": "text/x-python",
   "name": "python",
   "nbconvert_exporter": "python",
   "pygments_lexer": "ipython3",
   "version": "3.8.5"
  }
 },
 "nbformat": 4,
 "nbformat_minor": 2
}
